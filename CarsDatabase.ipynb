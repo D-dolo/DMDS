{
 "cells": [
  {
   "cell_type": "markdown",
   "metadata": {},
   "source": [
    "# Install libraries"
   ]
  },
  {
   "cell_type": "code",
   "execution_count": 1,
   "metadata": {},
   "outputs": [],
   "source": [
    "#!pip install pandas tqdm scikit-learn -q"
   ]
  },
  {
   "cell_type": "markdown",
   "metadata": {},
   "source": [
    "# Imports"
   ]
  },
  {
   "cell_type": "code",
   "execution_count": 1,
   "metadata": {},
   "outputs": [],
   "source": [
    "import numpy as np\n",
    "import pandas as pd\n",
    "from tqdm import tqdm\n",
    "import os\n",
    "\n",
    "# Creating directory for storing the CSVs\n",
    "directory = 'Processed_CSVs'\n",
    "if(not os.path.exists(directory)):\n",
    "    os.makedirs(directory)\n",
    "    print(\"Directory created successfully\")"
   ]
  },
  {
   "cell_type": "markdown",
   "metadata": {},
   "source": [
    "# Read CSV\n",
    "Also, clean the CSV by deleting useless columns and rows which contain non-alphabetical characters"
   ]
  },
  {
   "cell_type": "code",
   "execution_count": 2,
   "metadata": {},
   "outputs": [],
   "source": [
    "df = pd.read_csv('all_cars_1941-2022.csv')"
   ]
  },
  {
   "cell_type": "code",
   "execution_count": 3,
   "metadata": {},
   "outputs": [],
   "source": [
    "# A bit of preprocessing and data cleaning\n",
    "df.drop(['city', 'mixed', 'hwy'], axis=1, inplace=True)\n",
    "\n",
    "# Define the pattern\n",
    "pattern = r'[+!#]'\n",
    "columns_to_check = ['trim', 'body', 'engine_position', 'engine_type',\n",
    "                    'engine_compression', 'fuel', 'drive', 'transmission']\n",
    "\n",
    "rows_to_drop = df[columns_to_check].apply(lambda col: col.str.contains(pattern)).any(axis=1)\n",
    "\n",
    "# Drop rows containing non-alphabetical characters\n",
    "df = df[~rows_to_drop]"
   ]
  },
  {
   "cell_type": "code",
   "execution_count": 4,
   "metadata": {},
   "outputs": [],
   "source": [
    "# Replacing values\n",
    "df['body'] = df['body'].replace({'Sedan ':'Sedan', 'Convertible ':'Convertible'})\n",
    "df['cylinder'] = df['cylinder'].replace(0., np.nan)\n",
    "df['engine_type'] = df['engine_type'].replace({'in-line': 'Inline', 'V ': 'V'})\n",
    "df['engine_position'] = df['engine_position'].replace({'Front ': 'Front', 'rear': 'Rear'})\n",
    "df['fuel'] = df['fuel'].replace({'Gasoline ': 'Gasoline', 'Premium Unleaded (Recommended)': 'Premium Unleaded',\\\n",
    "                                'Premium Unleaded (Required)': 'Premium Unleaded', 'Flex-Fuel (Unleaded/E85)': 'FlexFuel',\\\n",
    "                                'Flex-Fuel (Unleaded/Natural Gas)': 'FlexFuel', 'Flex-Fuel (Premium Unleaded Requ': 'FlexFuel',\\\n",
    "                                'Flex-Fuel (Premium Unleaded Reco': 'FlexFuel', 'Flex-Fuel (Premium Unleaded/E85)': 'FlexFuel',\\\n",
    "                                'electric': 'Electric',})\n",
    "df['drive'] = df['drive'].replace({'All Wheel Drive': 'AWD', 'Four Wheel Drive': '4WD', 'Front Wheel Drive': 'FWD', 'Rear Wheel Drive': 'RWD',\\\n",
    "                                'AWD ': 'AWD', 'front': 'FWD','Front': 'FWD',})\n",
    "df['transmission'] = df['transmission'].replace({'CVT ': 'CVT', '4-speed automatic ':'4-speed automatic', '6-speed manual ':'6-speed manual',\\\n",
    "                                '5-speed automatic ':'5-speed automatic', 'automatic ':'Automatic', 'manual':'Manual','6-speed automatic ':'6-speed automatic',\\\n",
    "                                '7-speed automatic ':'7-speed automatic', '8-speed automatic ':'8-speed automatic',\\\n",
    "                                                        })\n",
    "df['doors'] = df['doors'].replace(0., np.nan)\n",
    "df['fuel_cap_l'] = df['fuel_cap_l'].replace(0., np.nan)"
   ]
  },
  {
   "cell_type": "code",
   "execution_count": 5,
   "metadata": {},
   "outputs": [
    {
     "data": {
      "text/html": [
       "<div>\n",
       "<style scoped>\n",
       "    .dataframe tbody tr th:only-of-type {\n",
       "        vertical-align: middle;\n",
       "    }\n",
       "\n",
       "    .dataframe tbody tr th {\n",
       "        vertical-align: top;\n",
       "    }\n",
       "\n",
       "    .dataframe thead th {\n",
       "        text-align: right;\n",
       "    }\n",
       "</style>\n",
       "<table border=\"1\" class=\"dataframe\">\n",
       "  <thead>\n",
       "    <tr style=\"text-align: right;\">\n",
       "      <th></th>\n",
       "      <th>make</th>\n",
       "      <th>country</th>\n",
       "      <th>model</th>\n",
       "      <th>trim</th>\n",
       "      <th>year</th>\n",
       "      <th>body</th>\n",
       "      <th>engine_position</th>\n",
       "      <th>engine_cc</th>\n",
       "      <th>cylinder</th>\n",
       "      <th>engine_type</th>\n",
       "      <th>...</th>\n",
       "      <th>power_rpm</th>\n",
       "      <th>torque_nm</th>\n",
       "      <th>torque_rpm</th>\n",
       "      <th>engine_compression</th>\n",
       "      <th>fuel</th>\n",
       "      <th>drive</th>\n",
       "      <th>transmission</th>\n",
       "      <th>doors</th>\n",
       "      <th>fuel_cap_l</th>\n",
       "      <th>sold_in_us</th>\n",
       "    </tr>\n",
       "  </thead>\n",
       "  <tbody>\n",
       "    <tr>\n",
       "      <th>0</th>\n",
       "      <td>Mercedes-Benz</td>\n",
       "      <td>Germany</td>\n",
       "      <td>250</td>\n",
       "      <td>2.8</td>\n",
       "      <td>1970</td>\n",
       "      <td>NaN</td>\n",
       "      <td>Front</td>\n",
       "      <td>2776</td>\n",
       "      <td>6.0</td>\n",
       "      <td>Inline</td>\n",
       "      <td>...</td>\n",
       "      <td>5000.0</td>\n",
       "      <td>216.0</td>\n",
       "      <td>3200.0</td>\n",
       "      <td>8.7:1</td>\n",
       "      <td>NaN</td>\n",
       "      <td>RWD</td>\n",
       "      <td>Manual</td>\n",
       "      <td>4.0</td>\n",
       "      <td>78.0</td>\n",
       "      <td>1</td>\n",
       "    </tr>\n",
       "    <tr>\n",
       "      <th>1</th>\n",
       "      <td>Mercedes-Benz</td>\n",
       "      <td>Germany</td>\n",
       "      <td>250</td>\n",
       "      <td>2.8 Automatic</td>\n",
       "      <td>1970</td>\n",
       "      <td>NaN</td>\n",
       "      <td>Front</td>\n",
       "      <td>2778</td>\n",
       "      <td>6.0</td>\n",
       "      <td>Inline</td>\n",
       "      <td>...</td>\n",
       "      <td>5000.0</td>\n",
       "      <td>217.0</td>\n",
       "      <td>3200.0</td>\n",
       "      <td>NaN</td>\n",
       "      <td>Gasoline</td>\n",
       "      <td>RWD</td>\n",
       "      <td>Automatic</td>\n",
       "      <td>4.0</td>\n",
       "      <td>65.0</td>\n",
       "      <td>1</td>\n",
       "    </tr>\n",
       "    <tr>\n",
       "      <th>2</th>\n",
       "      <td>Mercedes-Benz</td>\n",
       "      <td>Germany</td>\n",
       "      <td>280</td>\n",
       "      <td>SL</td>\n",
       "      <td>1970</td>\n",
       "      <td>NaN</td>\n",
       "      <td>Front</td>\n",
       "      <td>2778</td>\n",
       "      <td>6.0</td>\n",
       "      <td>Inline</td>\n",
       "      <td>...</td>\n",
       "      <td>NaN</td>\n",
       "      <td>258.0</td>\n",
       "      <td>NaN</td>\n",
       "      <td>9.5:1</td>\n",
       "      <td>NaN</td>\n",
       "      <td>RWD</td>\n",
       "      <td>Manual</td>\n",
       "      <td>NaN</td>\n",
       "      <td>NaN</td>\n",
       "      <td>1</td>\n",
       "    </tr>\n",
       "    <tr>\n",
       "      <th>3</th>\n",
       "      <td>Mercedes-Benz</td>\n",
       "      <td>Germany</td>\n",
       "      <td>600</td>\n",
       "      <td>Pullman</td>\n",
       "      <td>1970</td>\n",
       "      <td>NaN</td>\n",
       "      <td>Front</td>\n",
       "      <td>6330</td>\n",
       "      <td>8.0</td>\n",
       "      <td>Inline</td>\n",
       "      <td>...</td>\n",
       "      <td>4000.0</td>\n",
       "      <td>500.0</td>\n",
       "      <td>2800.0</td>\n",
       "      <td>NaN</td>\n",
       "      <td>Gasoline</td>\n",
       "      <td>RWD</td>\n",
       "      <td>NaN</td>\n",
       "      <td>NaN</td>\n",
       "      <td>NaN</td>\n",
       "      <td>1</td>\n",
       "    </tr>\n",
       "    <tr>\n",
       "      <th>4</th>\n",
       "      <td>Mercedes-Benz</td>\n",
       "      <td>Germany</td>\n",
       "      <td>C 111</td>\n",
       "      <td>NaN</td>\n",
       "      <td>1970</td>\n",
       "      <td>NaN</td>\n",
       "      <td>Middle</td>\n",
       "      <td>2400</td>\n",
       "      <td>NaN</td>\n",
       "      <td>NaN</td>\n",
       "      <td>...</td>\n",
       "      <td>7000.0</td>\n",
       "      <td>392.0</td>\n",
       "      <td>4000.0</td>\n",
       "      <td>9.3:1</td>\n",
       "      <td>NaN</td>\n",
       "      <td>RWD</td>\n",
       "      <td>Manual</td>\n",
       "      <td>2.0</td>\n",
       "      <td>120.0</td>\n",
       "      <td>1</td>\n",
       "    </tr>\n",
       "  </tbody>\n",
       "</table>\n",
       "<p>5 rows × 22 columns</p>\n",
       "</div>"
      ],
      "text/plain": [
       "            make  country  model           trim  year body engine_position  \\\n",
       "0  Mercedes-Benz  Germany    250            2.8  1970  NaN           Front   \n",
       "1  Mercedes-Benz  Germany    250  2.8 Automatic  1970  NaN           Front   \n",
       "2  Mercedes-Benz  Germany    280             SL  1970  NaN           Front   \n",
       "3  Mercedes-Benz  Germany    600        Pullman  1970  NaN           Front   \n",
       "4  Mercedes-Benz  Germany  C 111            NaN  1970  NaN          Middle   \n",
       "\n",
       "   engine_cc  cylinder engine_type  ...  power_rpm  torque_nm  torque_rpm  \\\n",
       "0       2776       6.0      Inline  ...     5000.0      216.0      3200.0   \n",
       "1       2778       6.0      Inline  ...     5000.0      217.0      3200.0   \n",
       "2       2778       6.0      Inline  ...        NaN      258.0         NaN   \n",
       "3       6330       8.0      Inline  ...     4000.0      500.0      2800.0   \n",
       "4       2400       NaN         NaN  ...     7000.0      392.0      4000.0   \n",
       "\n",
       "   engine_compression      fuel drive transmission doors fuel_cap_l  \\\n",
       "0               8.7:1       NaN   RWD       Manual   4.0       78.0   \n",
       "1                 NaN  Gasoline   RWD    Automatic   4.0       65.0   \n",
       "2               9.5:1       NaN   RWD       Manual   NaN        NaN   \n",
       "3                 NaN  Gasoline   RWD          NaN   NaN        NaN   \n",
       "4               9.3:1       NaN   RWD       Manual   2.0      120.0   \n",
       "\n",
       "   sold_in_us  \n",
       "0           1  \n",
       "1           1  \n",
       "2           1  \n",
       "3           1  \n",
       "4           1  \n",
       "\n",
       "[5 rows x 22 columns]"
      ]
     },
     "execution_count": 5,
     "metadata": {},
     "output_type": "execute_result"
    }
   ],
   "source": [
    "df.head(5)"
   ]
  },
  {
   "cell_type": "markdown",
   "metadata": {},
   "source": [
    "Count NaNs values"
   ]
  },
  {
   "cell_type": "code",
   "execution_count": 6,
   "metadata": {},
   "outputs": [
    {
     "name": "stdout",
     "output_type": "stream",
     "text": [
      "make                       0\n",
      "country                    0\n",
      "model                      0\n",
      "trim                   13090\n",
      "year                       0\n",
      "body                   15664\n",
      "engine_position         1236\n",
      "engine_cc                  0\n",
      "cylinder                1521\n",
      "engine_type             1263\n",
      "valves_per_cylinder    17618\n",
      "power_ps                4195\n",
      "power_rpm              27872\n",
      "torque_nm               6440\n",
      "torque_rpm             30136\n",
      "engine_compression     31247\n",
      "fuel                    8419\n",
      "drive                   2069\n",
      "transmission            9592\n",
      "doors                  10541\n",
      "fuel_cap_l             20455\n",
      "sold_in_us                 0\n",
      "dtype: int64\n",
      "DF Shape: (79212, 22)\n"
     ]
    }
   ],
   "source": [
    "# Count how many NaN values are in each column\n",
    "nan_counts = df.isna().sum()\n",
    "print(nan_counts)\n",
    "\n",
    "# Dataframe shape\n",
    "print(f\"DF Shape: {df.shape}\")"
   ]
  },
  {
   "cell_type": "markdown",
   "metadata": {},
   "source": [
    "# Option 0: Save Database with simply few touches\n",
    "In this case, we just removed 100 rows which were noisy (non-alphabetical number and columns which we do not need)"
   ]
  },
  {
   "cell_type": "code",
   "execution_count": 28,
   "metadata": {},
   "outputs": [],
   "source": [
    "# Export the Dataframe to a CSV file separated by a comma\n",
    "df.to_csv(os.path.join(directory,'all_cars_1941-2022_cleaned.csv'), index=False)"
   ]
  },
  {
   "cell_type": "markdown",
   "metadata": {},
   "source": [
    "# Option 1: Drop NaN values"
   ]
  },
  {
   "cell_type": "code",
   "execution_count": 35,
   "metadata": {},
   "outputs": [
    {
     "name": "stdout",
     "output_type": "stream",
     "text": [
      "make                   0\n",
      "country                0\n",
      "model                  0\n",
      "trim                   0\n",
      "year                   0\n",
      "body                   0\n",
      "engine_position        0\n",
      "engine_cc              0\n",
      "cylinder               0\n",
      "engine_type            0\n",
      "valves_per_cylinder    0\n",
      "power_ps               0\n",
      "power_rpm              0\n",
      "torque_nm              0\n",
      "torque_rpm             0\n",
      "engine_compression     0\n",
      "fuel                   0\n",
      "drive                  0\n",
      "transmission           0\n",
      "doors                  0\n",
      "fuel_cap_l             0\n",
      "sold_in_us             0\n",
      "dtype: int64\n",
      "DF Shape: (13145, 22)\n"
     ]
    }
   ],
   "source": [
    "df = df.dropna()\n",
    "\n",
    "# Count how many NaN values are in each column\n",
    "nan_counts = df.isna().sum()\n",
    "print(nan_counts)\n",
    "\n",
    "# Dataframe shape\n",
    "print(f\"DF Shape: {df.shape}\")"
   ]
  },
  {
   "cell_type": "markdown",
   "metadata": {},
   "source": [
    "## Export the Dataset"
   ]
  },
  {
   "cell_type": "code",
   "execution_count": 36,
   "metadata": {},
   "outputs": [],
   "source": [
    "# Export the Dataframe to a CSV file separated by a comma\n",
    "df.to_csv(os.path.join(directory,'all_cars_1941-2022_nans_dropped.csv'), index=False)"
   ]
  },
  {
   "cell_type": "markdown",
   "metadata": {},
   "source": [
    "# Option 2: Use Sklearn to fill NaN values"
   ]
  },
  {
   "cell_type": "code",
   "execution_count": 7,
   "metadata": {},
   "outputs": [],
   "source": [
    "from sklearn.neighbors import KNeighborsClassifier, KNeighborsRegressor\n",
    "from sklearn.preprocessing import LabelEncoder"
   ]
  },
  {
   "cell_type": "markdown",
   "metadata": {},
   "source": [
    "## String columns\n",
    "We first populate the string columns as they require a different approach.\n",
    "The scheme is the following:\n",
    "- 1. Selects columns that are strings and do not contain NaN values, then temporarily drops these columns from the DataFrame.\n",
    "- 2. Use _`LabelEncoder`_ to each remaining string column, store the mappings in a dictionary (encoder_mappings), and encodes the string values as numerical values (as required by the Classifier).\n",
    "- 3. Train a Classifier (in this case, `KNeighborsClassifier`) to predict missing values in each string column. Along with predicting the values, we evaluate the performance of the classifier on a small portion of the CSV.\n",
    "- 4. Map the predicted numerical values back to their corresponding strings using the encoder_mappings dictionary created before.\n",
    "- 5. Replace the original DataFrame's string columns with the predicted values from the Classifier (removing NaNs)"
   ]
  },
  {
   "cell_type": "code",
   "execution_count": 8,
   "metadata": {},
   "outputs": [],
   "source": [
    "# STEP 1: Convert all the string values to numerical values\n",
    "\n",
    "# Get the list of columns which are strings and CONTAIN NaN values.\n",
    "string_columns = df.select_dtypes(include=['object']).columns[df.select_dtypes(include=['object']).isna().sum() == 0]\n",
    "df_filtered = df.drop(columns=string_columns, inplace=False) # Drop these columns\n",
    "\n",
    "# Select only the columns which are strings now and replace NaN values with 'NaN'\n",
    "df_filtered = df_filtered.select_dtypes(include=['object'])\n",
    "df_filtered[pd.isnull(df_filtered)]  = 'NaN'"
   ]
  },
  {
   "cell_type": "code",
   "execution_count": 9,
   "metadata": {},
   "outputs": [],
   "source": [
    "# STEP 2: Apply LabelEncoder to each of these columns and store the mappings\n",
    "\n",
    "encoder_mappings = {}\n",
    "\n",
    "# Apply LabelEncoder to each of these columns and store the mappings\n",
    "for col in df_filtered.columns:\n",
    "    label_encoder = LabelEncoder()\n",
    "\n",
    "    # LabelEncoder the column\n",
    "    column = label_encoder.fit_transform(df_filtered[col])\n",
    "    df_filtered[col] = column\n",
    "    encoder_mappings[col] = dict(zip(label_encoder.classes_, label_encoder.transform(label_encoder.classes_)))"
   ]
  },
  {
   "cell_type": "code",
   "execution_count": 10,
   "metadata": {},
   "outputs": [
    {
     "name": "stderr",
     "output_type": "stream",
     "text": [
      "Fitting classifier to columns with missing values: 100%|██████████| 8/8 [00:06<00:00,  1.28it/s]"
     ]
    },
    {
     "name": "stdout",
     "output_type": "stream",
     "text": [
      "Classifier score: 0.8008686568867072\n"
     ]
    },
    {
     "name": "stderr",
     "output_type": "stream",
     "text": [
      "\n"
     ]
    }
   ],
   "source": [
    "# STEP 3: Train a Classifier (e.g., KNeighborsClassifier)\n",
    "classifier = KNeighborsClassifier()\n",
    "test_preds = []\n",
    "\n",
    "# Iterate over columns with missing values\n",
    "for col in tqdm(df_filtered.columns, desc='Fitting classifier to columns with missing values'):\n",
    "    # Continue until all NaNs in the column are filled. We must take the NaN value from the encoder_mappings dictionary\n",
    "    nan_value = encoder_mappings[col]['NaN']\n",
    "    # Continue until all NaNs in the column are filled. It means that we need to check if in \"col\" there is still value 12035.\n",
    "    while nan_value in df_filtered[col].values:\n",
    "        # Extract target variable (column with missing values) and features (rest of the columns)\n",
    "        target = df_filtered[col]\n",
    "        features = df_filtered.drop(columns=col)\n",
    "\n",
    "        # Split the data into two parts: one with non-null values and one with null values for the target column\n",
    "        # In order to check this, we need to place a mask based on the nan_value\n",
    "        mask = target != nan_value\n",
    "        train_data = features[mask]\n",
    "        test_data = features[~mask]\n",
    "        train_target = target[mask]\n",
    "\n",
    "        # Get the last 10% of the training data for validation\n",
    "        split_index = int(len(train_data) * 0.9)\n",
    "        train_data, val_data = train_data.iloc[:split_index], train_data.iloc[split_index:]\n",
    "        train_target, val_target = train_target.iloc[:split_index], train_target.iloc[split_index:]\n",
    "\n",
    "        # Fit the regressor\n",
    "        classifier.fit(train_data, train_target)\n",
    "\n",
    "        # Test the regressor\n",
    "        test_preds.append(classifier.score(val_data, val_target))\n",
    "\n",
    "        # Predict missing values\n",
    "        predictions = classifier.predict(test_data)\n",
    "\n",
    "        for i in range(len(predictions)):\n",
    "            predictions[i] = int(predictions[i])\n",
    "\n",
    "        # Update DataFrame with predicted values. We need to place the predictions in the original DataFrame\n",
    "        # It means that we need to take all the indexes from the original DataFrame and place the predictions in the right place\n",
    "        # This can be done through the mask and the indexes of the test_data\n",
    "        df_filtered.loc[test_data.index, col] = predictions\n",
    "\n",
    "# Check the score of the classifier\n",
    "print(f\"Classifier score: {np.mean(test_preds)}\")"
   ]
  },
  {
   "cell_type": "code",
   "execution_count": 11,
   "metadata": {},
   "outputs": [
    {
     "name": "stderr",
     "output_type": "stream",
     "text": [
      "Mapping back numerical values into strings: 100%|██████████| 8/8 [00:31<00:00,  3.92s/it]"
     ]
    },
    {
     "name": "stdout",
     "output_type": "stream",
     "text": [
      "make                       0\n",
      "country                    0\n",
      "model                      0\n",
      "trim                       0\n",
      "year                       0\n",
      "body                       0\n",
      "engine_position            0\n",
      "engine_cc                  0\n",
      "cylinder                1521\n",
      "engine_type                0\n",
      "valves_per_cylinder    17618\n",
      "power_ps                4195\n",
      "power_rpm              27872\n",
      "torque_nm               6440\n",
      "torque_rpm             30136\n",
      "engine_compression         0\n",
      "fuel                       0\n",
      "drive                      0\n",
      "transmission               0\n",
      "doors                  10541\n",
      "fuel_cap_l             20455\n",
      "sold_in_us                 0\n",
      "dtype: int64\n",
      "DF Shape: (79212, 22)\n"
     ]
    },
    {
     "name": "stderr",
     "output_type": "stream",
     "text": [
      "\n"
     ]
    }
   ],
   "source": [
    "# STEP 4: Map back the numerical values into strings\n",
    "# STEP 5: Replace the NaN values with the predicted values\n",
    "for col in tqdm(df_filtered.columns, desc='Mapping back numerical values into strings'):\n",
    "    df[col] = df_filtered[col].apply(lambda x: next((key for key, value in encoder_mappings[col].items() if value == x), None))  \n",
    "\n",
    "# Count how many NaN values are in each column\n",
    "nan_counts = df.isna().sum()\n",
    "print(nan_counts) # We can see from this print that the string columns now do not contain NaN values.\n",
    "\n",
    "# Dataframe shape\n",
    "print(f\"DF Shape: {df.shape}\") # The shape of the DataFrame is the same as the original one"
   ]
  },
  {
   "cell_type": "markdown",
   "metadata": {},
   "source": [
    "## Numerical columns\n",
    "Once the string columns have been populated, we need to populate columns which contain numerical values"
   ]
  },
  {
   "cell_type": "code",
   "execution_count": 12,
   "metadata": {},
   "outputs": [],
   "source": [
    "# Get the list of columns which are strings and don't contain NaN values\n",
    "numerical_columns = df.select_dtypes(exclude=['object']).columns[df.select_dtypes(exclude=['object']).isna().sum() == 0]\n",
    "\n",
    "# Drop the columns which contain numerical values and not NaN values (We don't want to predict these values, only NaNs)\n",
    "df_numerical_filtered = df.drop(columns=numerical_columns, inplace=False)\n",
    "\n",
    "# Select only the columns which are numbers now and replace NaN values with a proper 'NaN'\n",
    "df_numerical_filtered = df_numerical_filtered.select_dtypes(exclude=['object'])\n",
    "df_numerical_filtered[pd.isnull(df_numerical_filtered)]  = -1\n",
    "\n",
    "numerical_columns = df_numerical_filtered.columns\n",
    "\n",
    "for col in numerical_columns:\n",
    "    df[col] = df_numerical_filtered[col]"
   ]
  },
  {
   "cell_type": "code",
   "execution_count": 13,
   "metadata": {},
   "outputs": [],
   "source": [
    "# Use a temporary DataFrame to store the original DataFrame, because we need to convert the string columns to numerical values\n",
    "# once again. Work on the copy, then pass the predicted values to the original DataFrame.\n",
    "df_copy = df.copy()\n",
    "\n",
    "# Apply LabelEncoder to each of the string columns\n",
    "string_columns = df_copy.select_dtypes(include=['object'])\n",
    "\n",
    "for col in string_columns:\n",
    "    label_encoder = LabelEncoder()\n",
    "\n",
    "    # LabelEncoder the column\n",
    "    column = label_encoder.fit_transform(df_copy[col])\n",
    "    df_copy[col] = column"
   ]
  },
  {
   "cell_type": "code",
   "execution_count": 14,
   "metadata": {},
   "outputs": [
    {
     "name": "stderr",
     "output_type": "stream",
     "text": [
      "Fitting classifier to columns with missing values: 100%|██████████| 8/8 [00:06<00:00,  1.16it/s]"
     ]
    },
    {
     "name": "stdout",
     "output_type": "stream",
     "text": [
      "Regressor score: 0.8119647311368009\n"
     ]
    },
    {
     "name": "stderr",
     "output_type": "stream",
     "text": [
      "\n"
     ]
    }
   ],
   "source": [
    "# Now we need to enter in each column (taking them from df_numerical_filtered) and predict the NaN values based on all the other columns\n",
    "# We will use the same approach as before, but now we will use a regressor instead of a classifier\n",
    "regressor = KNeighborsRegressor()\n",
    "nan_value = -1\n",
    "\n",
    "# Iterate over columns with missing values\n",
    "for col in tqdm(numerical_columns, desc='Fitting classifier to columns with missing values'):\n",
    "    while nan_value in df_copy[col].values:\n",
    "        # Extract target variable (column with missing values) and features (rest of the columns)\n",
    "        target = df_copy[col]\n",
    "        features = df_copy.drop(columns=col)\n",
    "\n",
    "        # Split the data into two parts: one with non-null values and one with null values for the target column\n",
    "        # In order to check this, we need to place a mask based on the nan_value\n",
    "        mask = target != nan_value\n",
    "        train_data = features[mask]\n",
    "        test_data = features[~mask]\n",
    "        train_target = target[mask]\n",
    "\n",
    "        # Get the last 10% of the training data for validation\n",
    "        split_index = int(len(train_data) * 0.9)\n",
    "        train_data, val_data = train_data.iloc[:split_index], train_data.iloc[split_index:]\n",
    "        train_target, val_target = train_target.iloc[:split_index], train_target.iloc[split_index:]\n",
    "\n",
    "        # Fit the regressor\n",
    "        regressor.fit(train_data, train_target)\n",
    "\n",
    "        # Test the regressor\n",
    "        test_preds.append(regressor.score(val_data, val_target))\n",
    "\n",
    "        # Predict missing values\n",
    "        predictions = regressor.predict(test_data)\n",
    "\n",
    "        for i in range(len(predictions)):\n",
    "            predictions[i] = int(predictions[i])\n",
    "\n",
    "        # Update DataFrame with predicted values. We need to place the predictions in the original DataFrame\n",
    "        # It means that we need to take all the indexes from the original DataFrame and place the predictions in the right place\n",
    "        # This can be done through the mask and the indexes of the test_data\n",
    "        df_copy.loc[test_data.index, col] = predictions\n",
    "\n",
    "# Check the score of the regressor\n",
    "print(f\"Regressor score: {np.mean(test_preds)}\")"
   ]
  },
  {
   "cell_type": "code",
   "execution_count": 15,
   "metadata": {},
   "outputs": [
    {
     "name": "stdout",
     "output_type": "stream",
     "text": [
      "make                   0\n",
      "country                0\n",
      "model                  0\n",
      "trim                   0\n",
      "year                   0\n",
      "body                   0\n",
      "engine_position        0\n",
      "engine_cc              0\n",
      "cylinder               0\n",
      "engine_type            0\n",
      "valves_per_cylinder    0\n",
      "power_ps               0\n",
      "power_rpm              0\n",
      "torque_nm              0\n",
      "torque_rpm             0\n",
      "engine_compression     0\n",
      "fuel                   0\n",
      "drive                  0\n",
      "transmission           0\n",
      "doors                  0\n",
      "fuel_cap_l             0\n",
      "sold_in_us             0\n",
      "dtype: int64\n",
      "DF Shape: (79212, 22)\n"
     ]
    }
   ],
   "source": [
    "# Map back the numerical values into the original dataframe\n",
    "for col in numerical_columns:\n",
    "    df[col] = df_copy[col]\n",
    "\n",
    "# Count how many NaN values are in each column\n",
    "nan_counts = df.isna().sum()\n",
    "print(nan_counts)\n",
    "\n",
    "# Dataframe shape\n",
    "print(f\"DF Shape: {df.shape}\")"
   ]
  },
  {
   "cell_type": "markdown",
   "metadata": {},
   "source": [
    "## Export the Dataset"
   ]
  },
  {
   "cell_type": "code",
   "execution_count": 16,
   "metadata": {},
   "outputs": [],
   "source": [
    "# Export the Dataframe to a CSV file separated by a comma\n",
    "df.to_csv(os.path.join(directory,'all_cars_1941-2022_sklearn.csv'), index=False)"
   ]
  }
 ],
 "metadata": {
  "kernelspec": {
   "display_name": "base",
   "language": "python",
   "name": "python3"
  },
  "language_info": {
   "codemirror_mode": {
    "name": "ipython",
    "version": 3
   },
   "file_extension": ".py",
   "mimetype": "text/x-python",
   "name": "python",
   "nbconvert_exporter": "python",
   "pygments_lexer": "ipython3",
   "version": "3.11.5"
  }
 },
 "nbformat": 4,
 "nbformat_minor": 2
}
